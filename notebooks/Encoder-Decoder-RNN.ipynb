{
 "cells": [
  {
   "cell_type": "markdown",
   "metadata": {
    "deletable": true,
    "editable": true
   },
   "source": [
    "### we'll build a model that takes in a sequence of letters, and outputs a sorted version of that sequence. "
   ]
  },
  {
   "cell_type": "code",
   "execution_count": 1,
   "metadata": {
    "collapsed": false,
    "deletable": true,
    "editable": true
   },
   "outputs": [],
   "source": [
    "import numpy as np\n",
    "import time\n",
    "import os\n"
   ]
  },
  {
   "cell_type": "code",
   "execution_count": 2,
   "metadata": {
    "collapsed": true,
    "deletable": true,
    "editable": true
   },
   "outputs": [],
   "source": [
    "def load_data(path):\n",
    "    input_file = os.path.join(path)\n",
    "    with open(input_file, \"r\", encoding='utf-8', errors='ignore') as f:\n",
    "        data = f.read()\n",
    "\n",
    "    return data"
   ]
  },
  {
   "cell_type": "code",
   "execution_count": 3,
   "metadata": {
    "collapsed": false,
    "deletable": true,
    "editable": true
   },
   "outputs": [],
   "source": [
    "source_path = 'data/letters_source.txt'\n",
    "target_path = 'data/letters_target.txt'\n",
    "\n",
    "source_sentences = load_data(source_path)\n",
    "target_sentences = load_data(target_path)"
   ]
  },
  {
   "cell_type": "code",
   "execution_count": 4,
   "metadata": {
    "collapsed": false,
    "deletable": true,
    "editable": true
   },
   "outputs": [
    {
     "data": {
      "text/plain": [
       "['bsaqq', 'npy', 'lbwuj', 'bqv', 'kial', 'tddam']"
      ]
     },
     "execution_count": 4,
     "metadata": {},
     "output_type": "execute_result"
    }
   ],
   "source": [
    "source_sentences[:30].split(\"\\n\")"
   ]
  },
  {
   "cell_type": "code",
   "execution_count": 5,
   "metadata": {
    "collapsed": false,
    "deletable": true,
    "editable": true
   },
   "outputs": [
    {
     "data": {
      "text/plain": [
       "['abqqs', 'npy', 'bjluw', 'bqv', 'aikl', 'addmt']"
      ]
     },
     "execution_count": 5,
     "metadata": {},
     "output_type": "execute_result"
    }
   ],
   "source": [
    "target_sentences[:30].split(\"\\n\")"
   ]
  },
  {
   "cell_type": "markdown",
   "metadata": {
    "deletable": true,
    "editable": true
   },
   "source": [
    "### preprocessing"
   ]
  },
  {
   "cell_type": "code",
   "execution_count": 6,
   "metadata": {
    "collapsed": false,
    "deletable": true,
    "editable": true
   },
   "outputs": [],
   "source": [
    "def extract_character_vocab(data):\n",
    "    special_words = ['<PAD>', '<UNK>', '<GO>',  '<EOS>']\n",
    "\n",
    "    set_words = set([character for line in data.split('\\n') for character in line])\n",
    "    int_to_vocab = {word_i: word for word_i, word in enumerate(special_words + list(set_words))}\n",
    "    vocab_to_int = {word: word_i for word_i, word in int_to_vocab.items()}\n",
    "\n",
    "    return int_to_vocab, vocab_to_int"
   ]
  },
  {
   "cell_type": "code",
   "execution_count": 7,
   "metadata": {
    "collapsed": false,
    "deletable": true,
    "editable": true
   },
   "outputs": [
    {
     "name": "stdout",
     "output_type": "stream",
     "text": [
      "Example source sequence\n",
      "[[20, 21, 28, 9, 9], [6, 14, 10], [22, 20, 4, 23, 13]]\n",
      "\n",
      "\n",
      "Example target sequence\n",
      "[[28, 20, 9, 9, 21, 3], [6, 14, 10, 3], [20, 13, 22, 23, 4, 3]]\n"
     ]
    }
   ],
   "source": [
    "# Build int2letter and letter2int dicts\n",
    "source_int_to_letter, source_letter_to_int = extract_character_vocab(source_sentences)\n",
    "target_int_to_letter, target_letter_to_int = extract_character_vocab(target_sentences)\n",
    "\n",
    "# Convert characters to ids\n",
    "source_letter_ids = [[source_letter_to_int.get(letter, source_letter_to_int['<UNK>']) for letter in line] for line in source_sentences.split('\\n')]\n",
    "target_letter_ids = [[target_letter_to_int.get(letter, target_letter_to_int['<UNK>']) for letter in line] + [target_letter_to_int['<EOS>']] for line in target_sentences.split('\\n')] \n",
    "\n",
    "print(\"Example source sequence\")\n",
    "print(source_letter_ids[:3])\n",
    "print(\"\\n\")\n",
    "print(\"Example target sequence\")\n",
    "print(target_letter_ids[:3])"
   ]
  },
  {
   "cell_type": "markdown",
   "metadata": {
    "deletable": true,
    "editable": true
   },
   "source": [
    "### Building model"
   ]
  },
  {
   "cell_type": "code",
   "execution_count": 8,
   "metadata": {
    "collapsed": false,
    "deletable": true,
    "editable": true
   },
   "outputs": [
    {
     "name": "stdout",
     "output_type": "stream",
     "text": [
      "TensorFlow Version: 1.1.0\n"
     ]
    }
   ],
   "source": [
    "from distutils.version import LooseVersion\n",
    "import tensorflow as tf\n",
    "from tensorflow.python.layers.core import Dense\n",
    "\n",
    "\n",
    "# Check TensorFlow Version\n",
    "assert LooseVersion(tf.__version__) >= LooseVersion('1.1'), 'Please use TensorFlow version 1.1 or newer'\n",
    "print('TensorFlow Version: {}'.format(tf.__version__))"
   ]
  },
  {
   "cell_type": "markdown",
   "metadata": {
    "deletable": true,
    "editable": true
   },
   "source": [
    "### Hyper-params"
   ]
  },
  {
   "cell_type": "code",
   "execution_count": 9,
   "metadata": {
    "collapsed": true,
    "deletable": true,
    "editable": true
   },
   "outputs": [],
   "source": [
    "# Number of Epochs\n",
    "epochs = 60\n",
    "# Batch Size\n",
    "batch_size = 128\n",
    "# RNN Size\n",
    "rnn_size = 50\n",
    "# Number of Layers\n",
    "num_layers = 2\n",
    "# Embedding Size\n",
    "encoding_embedding_size = 15\n",
    "decoding_embedding_size = 15\n",
    "# Learning Rate\n",
    "learning_rate = 0.001"
   ]
  },
  {
   "cell_type": "code",
   "execution_count": 10,
   "metadata": {
    "collapsed": true,
    "deletable": true,
    "editable": true
   },
   "outputs": [],
   "source": [
    "def get_model_inputs():\n",
    "    input_data = tf.placeholder(tf.int32, [None, None], name='input')\n",
    "    targets = tf.placeholder(tf.int32, [None, None], name='targets')\n",
    "    lr = tf.placeholder(tf.float32, name='learning_rate')\n",
    "\n",
    "    target_sequence_length = tf.placeholder(tf.int32, (None,), name='target_sequence_length')\n",
    "    max_target_sequence_length = tf.reduce_max(target_sequence_length, name='max_target_len')\n",
    "    source_sequence_length = tf.placeholder(tf.int32, (None,), name='source_sequence_length')\n",
    "    \n",
    "    return input_data, targets, lr, target_sequence_length, max_target_sequence_length, source_sequence_length"
   ]
  },
  {
   "cell_type": "markdown",
   "metadata": {
    "deletable": true,
    "editable": true
   },
   "source": [
    "### Sequence to Sequence Model\n",
    "We are building it from the bottom up with the following components:\n",
    "\n",
    "2.1 Encoder\n",
    "    - Embedding\n",
    "    - Encoder cell\n",
    "2.2 Decoder\n",
    "    1- Process decoder inputs\n",
    "    2- Set up the decoder\n",
    "        - Embedding\n",
    "        - Decoder cell\n",
    "        - Dense output layer\n",
    "        - Training decoder\n",
    "        - Inference decoder\n",
    "2.3 Seq2seq model connecting the encoder and decoder\n",
    "\n",
    "2.4 Build the training graph hooking up the model with the \n",
    "    optimizer"
   ]
  },
  {
   "cell_type": "markdown",
   "metadata": {
    "deletable": true,
    "editable": true
   },
   "source": [
    "### 2.1 Encoder\n",
    "1. Embed the input data using tf.contrib.layers.embed_sequence\n",
    "2. Pass the embedded input into a stack of RNNs. Save the RNN state and ignore the output."
   ]
  },
  {
   "cell_type": "code",
   "execution_count": 11,
   "metadata": {
    "collapsed": true,
    "deletable": true,
    "editable": true
   },
   "outputs": [],
   "source": [
    "def encoding_layer(input_data, rnn_size, num_layers,\n",
    "                   source_sequence_length, source_vocab_size, \n",
    "                   encoding_embedding_size):\n",
    "    \n",
    "    # Encoder embedding\n",
    "    enc_embed_input = tf.contrib.layers.embed_sequence(input_data, source_vocab_size, encoding_embedding_size)\n",
    "    \n",
    "    # RNN Cell\n",
    "    def make_lstm_cell(rnn_size):\n",
    "        lstm_cell = tf.contrib.rnn.LSTMCell(rnn_size, initializer=tf.random_uniform_initializer(-0.1, 0.1, seed=2))\n",
    "        return lstm_cell\n",
    "    \n",
    "    encoder_cell = tf.contrib.rnn.MultiRNNCell([make_lstm_cell(rnn_size) for _ in range(num_layers)])\n",
    "    \n",
    "    encoder_output, encoder_state = tf.nn.dynamic_rnn(encoder_cell, enc_embed_input, sequence_length=source_sequence_length, dtype=tf.float32)\n",
    "    \n",
    "    return encoder_output, encoder_state"
   ]
  },
  {
   "cell_type": "markdown",
   "metadata": {
    "deletable": true,
    "editable": true
   },
   "source": [
    "### 2.2 Decoder\n",
    "1. Process decoder input;\n",
    "2. Set up decoder components:\n",
    "    - Embedding\n",
    "    - Decoder cell\n",
    "    - Dense output layer\n",
    "    - Training decoder\n",
    "    - Inference decoder\n",
    "    "
   ]
  },
  {
   "cell_type": "markdown",
   "metadata": {
    "deletable": true,
    "editable": true
   },
   "source": [
    "### Process Decoder\n",
    "In the training process, the target sequences will be used in two different places:\n",
    "- Using them to calculate the loss\n",
    "- Feeding them to the decoder during training to make the model more robust."
   ]
  },
  {
   "cell_type": "code",
   "execution_count": 12,
   "metadata": {
    "collapsed": true,
    "deletable": true,
    "editable": true
   },
   "outputs": [],
   "source": [
    "# Process the input we'll feed to the decoder\n",
    "def process_decoder_input(target_data, vocab_to_int, batch_size):\n",
    "    '''Remove the last word id from each batch and concat the <GO> to the begining of each batch'''\n",
    "    ending = tf.strided_slice(target_data, [0, 0], [batch_size, -1], [1, 1])\n",
    "    dec_input = tf.concat([tf.fill([batch_size, 1], vocab_to_int['<GO>']), ending], 1)\n",
    "\n",
    "    return dec_input"
   ]
  },
  {
   "cell_type": "markdown",
   "metadata": {
    "deletable": true,
    "editable": true
   },
   "source": [
    "### Set up the decoder components"
   ]
  },
  {
   "cell_type": "code",
   "execution_count": 13,
   "metadata": {
    "collapsed": true,
    "deletable": true,
    "editable": true
   },
   "outputs": [],
   "source": [
    "def decoding_layer(target_letter_to_int, decoding_embedding_size, num_layers, rnn_size,\n",
    "                   target_sequence_length, max_target_sequence_length, enc_state, dec_input):\n",
    "    # 1. Decoder Embedding\n",
    "    target_vocab_size = len(target_letter_to_int)\n",
    "    dec_embeddings = tf.Variable(tf.random_uniform([target_vocab_size, decoding_embedding_size]))\n",
    "    dec_embed_input = tf.nn.embedding_lookup(dec_embeddings, dec_input)\n",
    "    \n",
    "    # 2. Construct the decoder cell\n",
    "    def make_lstm_cell(rnn_size):\n",
    "        dec_cell = tf.contrib.rnn.LSTMCell(rnn_size,\n",
    "                                           initializer=tf.random_uniform_initializer(-0.1, 0.1, seed=2))\n",
    "        return dec_cell\n",
    "    \n",
    "    dec_cell = tf.contrib.rnn.MultiRNNCell([make_lstm_cell(rnn_size) for _ in range(num_layers)])\n",
    "    \n",
    "    # 3. Dense layer to translate the decoder's output at each time \n",
    "    # step into a choice from the target vocabulary\n",
    "    output_layer = Dense(target_vocab_size,\n",
    "                         kernel_initializer = tf.truncated_normal_initializer(mean = 0.0, stddev=0.1))\n",
    "    \n",
    "    # 4. Set up a training decoder and an inference decoder\n",
    "    # Training Decoder\n",
    "    with tf.variable_scope(\"decode\"):\n",
    "        # Helper for the training process. Used by BasicDecoder to read inputs.\n",
    "        training_helper = tf.contrib.seq2seq.TrainingHelper(inputs=dec_embed_input,\n",
    "                                                            sequence_length=target_sequence_length,\n",
    "                                                            time_major=False)\n",
    "        \n",
    "        # Basic decoder\n",
    "        training_decoder = tf.contrib.seq2seq.BasicDecoder(dec_cell,\n",
    "                                                           training_helper,\n",
    "                                                           enc_state,\n",
    "                                                           output_layer) \n",
    "        \n",
    "        # Perform dynamic decoding using the decoder\n",
    "        training_decoder_output, _ = tf.contrib.seq2seq.dynamic_decode(training_decoder,\n",
    "                                                                       impute_finished=True,\n",
    "                                                                       maximum_iterations=max_target_sequence_length)\n",
    "        \n",
    "    # 5. Inference Decoder\n",
    "    # Reuses the same parameters trained by the training process\n",
    "    with tf.variable_scope(\"decode\", reuse=True):\n",
    "        start_tokens = tf.tile(tf.constant([target_letter_to_int['<GO>']], dtype=tf.int32), [batch_size], name='start_tokens')\n",
    "\n",
    "        # Helper for the inference process.\n",
    "        inference_helper = tf.contrib.seq2seq.GreedyEmbeddingHelper(dec_embeddings,\n",
    "                                                                start_tokens,\n",
    "                                                                target_letter_to_int['<EOS>'])\n",
    "\n",
    "        # Basic decoder\n",
    "        inference_decoder = tf.contrib.seq2seq.BasicDecoder(dec_cell,\n",
    "                                                        inference_helper,\n",
    "                                                        enc_state,\n",
    "                                                        output_layer)\n",
    "        \n",
    "        # Perform dynamic decoding using the decoder\n",
    "        inference_decoder_output, _ = tf.contrib.seq2seq.dynamic_decode(inference_decoder,\n",
    "                                                            impute_finished=True,\n",
    "                                                            maximum_iterations=max_target_sequence_length)\n",
    "         \n",
    "\n",
    "    \n",
    "    return training_decoder_output, inference_decoder_output\n",
    "    "
   ]
  },
  {
   "cell_type": "markdown",
   "metadata": {
    "deletable": true,
    "editable": true
   },
   "source": [
    "### Seq2Seq Model"
   ]
  },
  {
   "cell_type": "code",
   "execution_count": 14,
   "metadata": {
    "collapsed": true,
    "deletable": true,
    "editable": true
   },
   "outputs": [],
   "source": [
    "def seq2seq_model(input_data, targets, lr, target_sequence_length, \n",
    "                  max_target_sequence_length, source_sequence_length,\n",
    "                  source_vocab_size, target_vocab_size,\n",
    "                  enc_embedding_size, dec_embedding_size, \n",
    "                  rnn_size, num_layers):\n",
    "    \n",
    "    # Pass the input data through the encoder. We'll ignore the encoder output, but use the state\n",
    "    _, enc_state = encoding_layer(input_data, \n",
    "                                  rnn_size, \n",
    "                                  num_layers, \n",
    "                                  source_sequence_length,\n",
    "                                  source_vocab_size, \n",
    "                                  encoding_embedding_size)\n",
    "    \n",
    "    # Prepare the target sequences we'll feed to the decoder in training mode\n",
    "    dec_input = process_decoder_input(targets, target_letter_to_int, batch_size)\n",
    "    \n",
    "    # Pass encoder state and decoder inputs to the decoders\n",
    "    training_decoder_output, inference_decoder_output = decoding_layer(target_letter_to_int, \n",
    "                                                                       decoding_embedding_size, \n",
    "                                                                       num_layers, \n",
    "                                                                       rnn_size,\n",
    "                                                                       target_sequence_length,\n",
    "                                                                       max_target_sequence_length,\n",
    "                                                                       enc_state, \n",
    "                                                                       dec_input) \n",
    "    \n",
    "    return training_decoder_output, inference_decoder_output"
   ]
  },
  {
   "cell_type": "code",
   "execution_count": 15,
   "metadata": {
    "collapsed": false,
    "deletable": true,
    "editable": true
   },
   "outputs": [],
   "source": [
    "# Build the graph\n",
    "train_graph = tf.Graph()\n",
    "# Set the graph to default to ensure that it is ready for training\n",
    "with train_graph.as_default():\n",
    "    \n",
    "    # Load the model inputs    \n",
    "    input_data, targets, lr, target_sequence_length, max_target_sequence_length, source_sequence_length = get_model_inputs()\n",
    "    \n",
    "    # Create the training and inference logits\n",
    "    training_decoder_output, inference_decoder_output = seq2seq_model(input_data, \n",
    "                                                                      targets, \n",
    "                                                                      lr, \n",
    "                                                                      target_sequence_length, \n",
    "                                                                      max_target_sequence_length, \n",
    "                                                                      source_sequence_length,\n",
    "                                                                      len(source_letter_to_int),\n",
    "                                                                      len(target_letter_to_int),\n",
    "                                                                      encoding_embedding_size, \n",
    "                                                                      decoding_embedding_size, \n",
    "                                                                      rnn_size, \n",
    "                                                                      num_layers)    \n",
    "    \n",
    "    # Create tensors for the training logits and inference logits\n",
    "    training_logits = tf.identity(training_decoder_output.rnn_output, 'logits')\n",
    "    inference_logits = tf.identity(inference_decoder_output.sample_id, name='predictions')\n",
    "    \n",
    "    # Create the weights for sequence_loss\n",
    "    masks = tf.sequence_mask(target_sequence_length, max_target_sequence_length, dtype=tf.float32, name='masks')\n",
    "\n",
    "    with tf.name_scope(\"optimization\"):\n",
    "        \n",
    "        # Loss function\n",
    "        cost = tf.contrib.seq2seq.sequence_loss(\n",
    "            training_logits,\n",
    "            targets,\n",
    "            masks)\n",
    "\n",
    "        # Optimizer\n",
    "        optimizer = tf.train.AdamOptimizer(lr)\n",
    "\n",
    "        # Gradient Clipping\n",
    "        gradients = optimizer.compute_gradients(cost)\n",
    "        capped_gradients = [(tf.clip_by_value(grad, -5., 5.), var) for grad, var in gradients if grad is not None]\n",
    "        train_op = optimizer.apply_gradients(capped_gradients)"
   ]
  },
  {
   "cell_type": "markdown",
   "metadata": {
    "deletable": true,
    "editable": true
   },
   "source": [
    "### Processing batch data"
   ]
  },
  {
   "cell_type": "code",
   "execution_count": 16,
   "metadata": {
    "collapsed": true,
    "deletable": true,
    "editable": true
   },
   "outputs": [],
   "source": [
    "def pad_sentence_batch(sentence_batch, pad_int):\n",
    "    \"\"\"Pad sentences with <PAD> so that each sentence of a batch has the same length\"\"\"\n",
    "    max_sentence = max([len(sentence) for sentence in sentence_batch])\n",
    "    return [sentence + [pad_int] * (max_sentence - len(sentence)) for sentence in sentence_batch]"
   ]
  },
  {
   "cell_type": "code",
   "execution_count": 17,
   "metadata": {
    "collapsed": true,
    "deletable": true,
    "editable": true
   },
   "outputs": [],
   "source": [
    "def get_batches(targets, sources, batch_size, source_pad_int, target_pad_int):\n",
    "    \"\"\"Batch targets, sources, and the lengths of their sentences together\"\"\"\n",
    "    for batch_i in range(0, len(sources)//batch_size):\n",
    "        start_i = batch_i * batch_size\n",
    "        sources_batch = sources[start_i:start_i + batch_size]\n",
    "        targets_batch = targets[start_i:start_i + batch_size]\n",
    "        pad_sources_batch = np.array(pad_sentence_batch(sources_batch, source_pad_int))\n",
    "        pad_targets_batch = np.array(pad_sentence_batch(targets_batch, target_pad_int))\n",
    "        \n",
    "        # Need the lengths for the _lengths parameters\n",
    "        pad_targets_lengths = []\n",
    "        for target in pad_targets_batch:\n",
    "            pad_targets_lengths.append(len(target))\n",
    "        \n",
    "        pad_source_lengths = []\n",
    "        for source in pad_sources_batch:\n",
    "            pad_source_lengths.append(len(source))\n",
    "        \n",
    "        yield pad_targets_batch, pad_sources_batch, pad_targets_lengths, pad_source_lengths\n"
   ]
  },
  {
   "cell_type": "markdown",
   "metadata": {
    "deletable": true,
    "editable": true
   },
   "source": [
    "### Train"
   ]
  },
  {
   "cell_type": "code",
   "execution_count": 18,
   "metadata": {
    "collapsed": false,
    "deletable": true,
    "editable": true
   },
   "outputs": [
    {
     "name": "stdout",
     "output_type": "stream",
     "text": [
      "Epoch   1/60 Batch   20/77 - Loss:  2.446  - Validation loss:  2.472\n",
      "Epoch   1/60 Batch   40/77 - Loss:  2.299  - Validation loss:  2.259\n",
      "Epoch   1/60 Batch   60/77 - Loss:  2.005  - Validation loss:  2.047\n",
      "Epoch   2/60 Batch   20/77 - Loss:  1.707  - Validation loss:  1.782\n",
      "Epoch   2/60 Batch   40/77 - Loss:  1.696  - Validation loss:  1.659\n",
      "Epoch   2/60 Batch   60/77 - Loss:  1.519  - Validation loss:  1.555\n",
      "Epoch   3/60 Batch   20/77 - Loss:  1.382  - Validation loss:  1.450\n",
      "Epoch   3/60 Batch   40/77 - Loss:  1.456  - Validation loss:  1.420\n",
      "Epoch   3/60 Batch   60/77 - Loss:  1.349  - Validation loss:  1.395\n",
      "Epoch   4/60 Batch   20/77 - Loss:  1.222  - Validation loss:  1.290\n",
      "Epoch   4/60 Batch   40/77 - Loss:  1.278  - Validation loss:  1.251\n",
      "Epoch   4/60 Batch   60/77 - Loss:  1.157  - Validation loss:  1.214\n",
      "Epoch   5/60 Batch   20/77 - Loss:  1.102  - Validation loss:  1.157\n",
      "Epoch   5/60 Batch   40/77 - Loss:  1.147  - Validation loss:  1.126\n",
      "Epoch   5/60 Batch   60/77 - Loss:  1.046  - Validation loss:  1.097\n",
      "Epoch   6/60 Batch   20/77 - Loss:  0.985  - Validation loss:  1.045\n",
      "Epoch   6/60 Batch   40/77 - Loss:  1.033  - Validation loss:  1.018\n",
      "Epoch   6/60 Batch   60/77 - Loss:  0.939  - Validation loss:  0.984\n",
      "Epoch   7/60 Batch   20/77 - Loss:  0.868  - Validation loss:  0.923\n",
      "Epoch   7/60 Batch   40/77 - Loss:  0.916  - Validation loss:  0.899\n",
      "Epoch   7/60 Batch   60/77 - Loss:  0.843  - Validation loss:  0.875\n",
      "Epoch   8/60 Batch   20/77 - Loss:  0.782  - Validation loss:  0.835\n",
      "Epoch   8/60 Batch   40/77 - Loss:  0.832  - Validation loss:  0.821\n",
      "Epoch   8/60 Batch   60/77 - Loss:  0.766  - Validation loss:  0.801\n",
      "Epoch   9/60 Batch   20/77 - Loss:  0.701  - Validation loss:  0.761\n",
      "Epoch   9/60 Batch   40/77 - Loss:  0.749  - Validation loss:  0.748\n",
      "Epoch   9/60 Batch   60/77 - Loss:  0.691  - Validation loss:  0.725\n",
      "Epoch  10/60 Batch   20/77 - Loss:  0.628  - Validation loss:  0.690\n",
      "Epoch  10/60 Batch   40/77 - Loss:  0.670  - Validation loss:  0.673\n",
      "Epoch  10/60 Batch   60/77 - Loss:  0.612  - Validation loss:  0.650\n",
      "Epoch  11/60 Batch   20/77 - Loss:  0.561  - Validation loss:  0.616\n",
      "Epoch  11/60 Batch   40/77 - Loss:  0.599  - Validation loss:  0.600\n",
      "Epoch  11/60 Batch   60/77 - Loss:  0.549  - Validation loss:  0.582\n",
      "Epoch  12/60 Batch   20/77 - Loss:  0.505  - Validation loss:  0.559\n",
      "Epoch  12/60 Batch   40/77 - Loss:  0.546  - Validation loss:  0.548\n",
      "Epoch  12/60 Batch   60/77 - Loss:  0.499  - Validation loss:  0.532\n",
      "Epoch  13/60 Batch   20/77 - Loss:  0.479  - Validation loss:  0.532\n",
      "Epoch  13/60 Batch   40/77 - Loss:  0.519  - Validation loss:  0.548\n",
      "Epoch  13/60 Batch   60/77 - Loss:  0.469  - Validation loss:  0.495\n",
      "Epoch  14/60 Batch   20/77 - Loss:  0.417  - Validation loss:  0.469\n",
      "Epoch  14/60 Batch   40/77 - Loss:  0.455  - Validation loss:  0.461\n",
      "Epoch  14/60 Batch   60/77 - Loss:  0.421  - Validation loss:  0.450\n",
      "Epoch  15/60 Batch   20/77 - Loss:  0.380  - Validation loss:  0.431\n",
      "Epoch  15/60 Batch   40/77 - Loss:  0.418  - Validation loss:  0.423\n",
      "Epoch  15/60 Batch   60/77 - Loss:  0.384  - Validation loss:  0.412\n",
      "Epoch  16/60 Batch   20/77 - Loss:  0.342  - Validation loss:  0.395\n",
      "Epoch  16/60 Batch   40/77 - Loss:  0.380  - Validation loss:  0.384\n",
      "Epoch  16/60 Batch   60/77 - Loss:  0.348  - Validation loss:  0.377\n",
      "Epoch  17/60 Batch   20/77 - Loss:  0.306  - Validation loss:  0.358\n",
      "Epoch  17/60 Batch   40/77 - Loss:  0.342  - Validation loss:  0.345\n",
      "Epoch  17/60 Batch   60/77 - Loss:  0.315  - Validation loss:  0.333\n",
      "Epoch  18/60 Batch   20/77 - Loss:  0.274  - Validation loss:  0.322\n",
      "Epoch  18/60 Batch   40/77 - Loss:  0.305  - Validation loss:  0.311\n",
      "Epoch  18/60 Batch   60/77 - Loss:  0.282  - Validation loss:  0.299\n",
      "Epoch  19/60 Batch   20/77 - Loss:  0.247  - Validation loss:  0.294\n",
      "Epoch  19/60 Batch   40/77 - Loss:  0.271  - Validation loss:  0.281\n",
      "Epoch  19/60 Batch   60/77 - Loss:  0.254  - Validation loss:  0.270\n",
      "Epoch  20/60 Batch   20/77 - Loss:  0.220  - Validation loss:  0.269\n",
      "Epoch  20/60 Batch   40/77 - Loss:  0.243  - Validation loss:  0.255\n",
      "Epoch  20/60 Batch   60/77 - Loss:  0.231  - Validation loss:  0.245\n",
      "Epoch  21/60 Batch   20/77 - Loss:  0.195  - Validation loss:  0.242\n",
      "Epoch  21/60 Batch   40/77 - Loss:  0.219  - Validation loss:  0.233\n",
      "Epoch  21/60 Batch   60/77 - Loss:  0.208  - Validation loss:  0.221\n",
      "Epoch  22/60 Batch   20/77 - Loss:  0.173  - Validation loss:  0.226\n",
      "Epoch  22/60 Batch   40/77 - Loss:  0.198  - Validation loss:  0.210\n",
      "Epoch  22/60 Batch   60/77 - Loss:  0.188  - Validation loss:  0.205\n",
      "Epoch  23/60 Batch   20/77 - Loss:  0.151  - Validation loss:  0.192\n",
      "Epoch  23/60 Batch   40/77 - Loss:  0.213  - Validation loss:  0.224\n",
      "Epoch  23/60 Batch   60/77 - Loss:  0.178  - Validation loss:  0.191\n",
      "Epoch  24/60 Batch   20/77 - Loss:  0.135  - Validation loss:  0.173\n",
      "Epoch  24/60 Batch   40/77 - Loss:  0.159  - Validation loss:  0.169\n",
      "Epoch  24/60 Batch   60/77 - Loss:  0.146  - Validation loss:  0.162\n",
      "Epoch  25/60 Batch   20/77 - Loss:  0.121  - Validation loss:  0.156\n",
      "Epoch  25/60 Batch   40/77 - Loss:  0.141  - Validation loss:  0.154\n",
      "Epoch  25/60 Batch   60/77 - Loss:  0.130  - Validation loss:  0.147\n",
      "Epoch  26/60 Batch   20/77 - Loss:  0.107  - Validation loss:  0.141\n",
      "Epoch  26/60 Batch   40/77 - Loss:  0.126  - Validation loss:  0.139\n",
      "Epoch  26/60 Batch   60/77 - Loss:  0.116  - Validation loss:  0.134\n",
      "Epoch  27/60 Batch   20/77 - Loss:  0.095  - Validation loss:  0.127\n",
      "Epoch  27/60 Batch   40/77 - Loss:  0.113  - Validation loss:  0.127\n",
      "Epoch  27/60 Batch   60/77 - Loss:  0.104  - Validation loss:  0.122\n",
      "Epoch  28/60 Batch   20/77 - Loss:  0.085  - Validation loss:  0.116\n",
      "Epoch  28/60 Batch   40/77 - Loss:  0.102  - Validation loss:  0.115\n",
      "Epoch  28/60 Batch   60/77 - Loss:  0.094  - Validation loss:  0.111\n",
      "Epoch  29/60 Batch   20/77 - Loss:  0.076  - Validation loss:  0.106\n",
      "Epoch  29/60 Batch   40/77 - Loss:  0.092  - Validation loss:  0.104\n",
      "Epoch  29/60 Batch   60/77 - Loss:  0.085  - Validation loss:  0.101\n",
      "Epoch  30/60 Batch   20/77 - Loss:  0.068  - Validation loss:  0.097\n",
      "Epoch  30/60 Batch   40/77 - Loss:  0.084  - Validation loss:  0.094\n",
      "Epoch  30/60 Batch   60/77 - Loss:  0.077  - Validation loss:  0.093\n",
      "Epoch  31/60 Batch   20/77 - Loss:  0.062  - Validation loss:  0.089\n",
      "Epoch  31/60 Batch   40/77 - Loss:  0.076  - Validation loss:  0.085\n",
      "Epoch  31/60 Batch   60/77 - Loss:  0.070  - Validation loss:  0.085\n",
      "Epoch  32/60 Batch   20/77 - Loss:  0.055  - Validation loss:  0.082\n",
      "Epoch  32/60 Batch   40/77 - Loss:  0.070  - Validation loss:  0.077\n",
      "Epoch  32/60 Batch   60/77 - Loss:  0.064  - Validation loss:  0.078\n",
      "Epoch  33/60 Batch   20/77 - Loss:  0.050  - Validation loss:  0.074\n",
      "Epoch  33/60 Batch   40/77 - Loss:  0.064  - Validation loss:  0.070\n",
      "Epoch  33/60 Batch   60/77 - Loss:  0.058  - Validation loss:  0.071\n",
      "Epoch  34/60 Batch   20/77 - Loss:  0.348  - Validation loss:  0.243\n",
      "Epoch  34/60 Batch   40/77 - Loss:  0.095  - Validation loss:  0.112\n",
      "Epoch  34/60 Batch   60/77 - Loss:  0.068  - Validation loss:  0.085\n",
      "Epoch  35/60 Batch   20/77 - Loss:  0.043  - Validation loss:  0.067\n",
      "Epoch  35/60 Batch   40/77 - Loss:  0.057  - Validation loss:  0.064\n",
      "Epoch  35/60 Batch   60/77 - Loss:  0.052  - Validation loss:  0.061\n",
      "Epoch  36/60 Batch   20/77 - Loss:  0.039  - Validation loss:  0.058\n",
      "Epoch  36/60 Batch   40/77 - Loss:  0.051  - Validation loss:  0.056\n",
      "Epoch  36/60 Batch   60/77 - Loss:  0.047  - Validation loss:  0.055\n",
      "Epoch  37/60 Batch   20/77 - Loss:  0.035  - Validation loss:  0.053\n",
      "Epoch  37/60 Batch   40/77 - Loss:  0.047  - Validation loss:  0.052\n",
      "Epoch  37/60 Batch   60/77 - Loss:  0.043  - Validation loss:  0.050\n",
      "Epoch  38/60 Batch   20/77 - Loss:  0.032  - Validation loss:  0.049\n",
      "Epoch  38/60 Batch   40/77 - Loss:  0.044  - Validation loss:  0.048\n",
      "Epoch  38/60 Batch   60/77 - Loss:  0.039  - Validation loss:  0.047\n",
      "Epoch  39/60 Batch   20/77 - Loss:  0.029  - Validation loss:  0.046\n",
      "Epoch  39/60 Batch   40/77 - Loss:  0.040  - Validation loss:  0.045\n",
      "Epoch  39/60 Batch   60/77 - Loss:  0.036  - Validation loss:  0.043\n",
      "Epoch  40/60 Batch   20/77 - Loss:  0.027  - Validation loss:  0.043\n",
      "Epoch  40/60 Batch   40/77 - Loss:  0.037  - Validation loss:  0.042\n",
      "Epoch  40/60 Batch   60/77 - Loss:  0.034  - Validation loss:  0.040\n",
      "Epoch  41/60 Batch   20/77 - Loss:  0.025  - Validation loss:  0.040\n",
      "Epoch  41/60 Batch   40/77 - Loss:  0.035  - Validation loss:  0.039\n",
      "Epoch  41/60 Batch   60/77 - Loss:  0.031  - Validation loss:  0.038\n",
      "Epoch  42/60 Batch   20/77 - Loss:  0.023  - Validation loss:  0.038\n",
      "Epoch  42/60 Batch   40/77 - Loss:  0.032  - Validation loss:  0.037\n",
      "Epoch  42/60 Batch   60/77 - Loss:  0.029  - Validation loss:  0.035\n",
      "Epoch  43/60 Batch   20/77 - Loss:  0.021  - Validation loss:  0.035\n",
      "Epoch  43/60 Batch   40/77 - Loss:  0.030  - Validation loss:  0.034\n",
      "Epoch  43/60 Batch   60/77 - Loss:  0.027  - Validation loss:  0.033\n",
      "Epoch  44/60 Batch   20/77 - Loss:  0.020  - Validation loss:  0.033\n",
      "Epoch  44/60 Batch   40/77 - Loss:  0.028  - Validation loss:  0.032\n",
      "Epoch  44/60 Batch   60/77 - Loss:  0.025  - Validation loss:  0.031\n",
      "Epoch  45/60 Batch   20/77 - Loss:  0.019  - Validation loss:  0.031\n",
      "Epoch  45/60 Batch   40/77 - Loss:  0.026  - Validation loss:  0.030\n",
      "Epoch  45/60 Batch   60/77 - Loss:  0.024  - Validation loss:  0.029\n",
      "Epoch  46/60 Batch   20/77 - Loss:  0.017  - Validation loss:  0.029\n",
      "Epoch  46/60 Batch   40/77 - Loss:  0.024  - Validation loss:  0.028\n",
      "Epoch  46/60 Batch   60/77 - Loss:  0.022  - Validation loss:  0.027\n",
      "Epoch  47/60 Batch   20/77 - Loss:  0.016  - Validation loss:  0.028\n",
      "Epoch  47/60 Batch   40/77 - Loss:  0.022  - Validation loss:  0.027\n",
      "Epoch  47/60 Batch   60/77 - Loss:  0.021  - Validation loss:  0.025\n",
      "Epoch  48/60 Batch   20/77 - Loss:  0.015  - Validation loss:  0.026\n",
      "Epoch  48/60 Batch   40/77 - Loss:  0.021  - Validation loss:  0.025\n",
      "Epoch  48/60 Batch   60/77 - Loss:  0.019  - Validation loss:  0.024\n",
      "Epoch  49/60 Batch   20/77 - Loss:  0.014  - Validation loss:  0.025\n",
      "Epoch  49/60 Batch   40/77 - Loss:  0.019  - Validation loss:  0.024\n",
      "Epoch  49/60 Batch   60/77 - Loss:  0.018  - Validation loss:  0.022\n",
      "Epoch  50/60 Batch   20/77 - Loss:  0.013  - Validation loss:  0.023\n",
      "Epoch  50/60 Batch   40/77 - Loss:  0.018  - Validation loss:  0.022\n",
      "Epoch  50/60 Batch   60/77 - Loss:  0.017  - Validation loss:  0.021\n",
      "Epoch  51/60 Batch   20/77 - Loss:  0.012  - Validation loss:  0.022\n",
      "Epoch  51/60 Batch   40/77 - Loss:  0.017  - Validation loss:  0.021\n",
      "Epoch  51/60 Batch   60/77 - Loss:  0.016  - Validation loss:  0.020\n",
      "Epoch  52/60 Batch   20/77 - Loss:  0.012  - Validation loss:  0.021\n",
      "Epoch  52/60 Batch   40/77 - Loss:  0.016  - Validation loss:  0.020\n",
      "Epoch  52/60 Batch   60/77 - Loss:  0.015  - Validation loss:  0.018\n",
      "Epoch  53/60 Batch   20/77 - Loss:  0.011  - Validation loss:  0.020\n",
      "Epoch  53/60 Batch   40/77 - Loss:  0.015  - Validation loss:  0.019\n",
      "Epoch  53/60 Batch   60/77 - Loss:  0.014  - Validation loss:  0.017\n",
      "Epoch  54/60 Batch   20/77 - Loss:  0.010  - Validation loss:  0.019\n",
      "Epoch  54/60 Batch   40/77 - Loss:  0.014  - Validation loss:  0.018\n",
      "Epoch  54/60 Batch   60/77 - Loss:  0.013  - Validation loss:  0.016\n",
      "Epoch  55/60 Batch   20/77 - Loss:  0.010  - Validation loss:  0.018\n",
      "Epoch  55/60 Batch   40/77 - Loss:  0.013  - Validation loss:  0.017\n",
      "Epoch  55/60 Batch   60/77 - Loss:  0.012  - Validation loss:  0.015\n",
      "Epoch  56/60 Batch   20/77 - Loss:  0.009  - Validation loss:  0.017\n",
      "Epoch  56/60 Batch   40/77 - Loss:  0.012  - Validation loss:  0.016\n",
      "Epoch  56/60 Batch   60/77 - Loss:  0.011  - Validation loss:  0.015\n",
      "Epoch  57/60 Batch   20/77 - Loss:  0.008  - Validation loss:  0.016\n",
      "Epoch  57/60 Batch   40/77 - Loss:  0.011  - Validation loss:  0.015\n",
      "Epoch  57/60 Batch   60/77 - Loss:  0.011  - Validation loss:  0.014\n",
      "Epoch  58/60 Batch   20/77 - Loss:  0.008  - Validation loss:  0.015\n",
      "Epoch  58/60 Batch   40/77 - Loss:  0.011  - Validation loss:  0.014\n",
      "Epoch  58/60 Batch   60/77 - Loss:  0.010  - Validation loss:  0.013\n",
      "Epoch  59/60 Batch   20/77 - Loss:  0.007  - Validation loss:  0.014\n",
      "Epoch  59/60 Batch   40/77 - Loss:  0.010  - Validation loss:  0.014\n",
      "Epoch  59/60 Batch   60/77 - Loss:  0.009  - Validation loss:  0.013\n",
      "Epoch  60/60 Batch   20/77 - Loss:  0.007  - Validation loss:  0.014\n",
      "Epoch  60/60 Batch   40/77 - Loss:  0.009  - Validation loss:  0.013\n",
      "Epoch  60/60 Batch   60/77 - Loss:  0.009  - Validation loss:  0.012\n",
      "Model Trained and Saved\n"
     ]
    }
   ],
   "source": [
    "# Split data to training and validation sets\n",
    "train_source = source_letter_ids[batch_size:]\n",
    "train_target = target_letter_ids[batch_size:]\n",
    "valid_source = source_letter_ids[:batch_size]\n",
    "valid_target = target_letter_ids[:batch_size]\n",
    "(valid_targets_batch, valid_sources_batch, valid_targets_lengths, valid_sources_lengths) = next(get_batches(valid_target, valid_source, batch_size,\n",
    "                           source_letter_to_int['<PAD>'],\n",
    "                           target_letter_to_int['<PAD>']))\n",
    "\n",
    "display_step = 20 # Check training loss after every 20 batches\n",
    "\n",
    "checkpoint = \"best_model.ckpt\" \n",
    "with tf.Session(graph=train_graph) as sess:\n",
    "    sess.run(tf.global_variables_initializer())\n",
    "        \n",
    "    for epoch_i in range(1, epochs+1):\n",
    "        for batch_i, (targets_batch, sources_batch, targets_lengths, sources_lengths) in enumerate(\n",
    "                get_batches(train_target, train_source, batch_size,\n",
    "                           source_letter_to_int['<PAD>'],\n",
    "                           target_letter_to_int['<PAD>'])):\n",
    "            \n",
    "            # Training step\n",
    "            _, loss = sess.run(\n",
    "                [train_op, cost],\n",
    "                {input_data: sources_batch,\n",
    "                 targets: targets_batch,\n",
    "                 lr: learning_rate,\n",
    "                 target_sequence_length: targets_lengths,\n",
    "                 source_sequence_length: sources_lengths})\n",
    "\n",
    "            # Debug message updating us on the status of the training\n",
    "            if batch_i % display_step == 0 and batch_i > 0:\n",
    "                \n",
    "                # Calculate validation cost\n",
    "                validation_loss = sess.run(\n",
    "                [cost],\n",
    "                {input_data: valid_sources_batch,\n",
    "                 targets: valid_targets_batch,\n",
    "                 lr: learning_rate,\n",
    "                 target_sequence_length: valid_targets_lengths,\n",
    "                 source_sequence_length: valid_sources_lengths})\n",
    "                \n",
    "                print('Epoch {:>3}/{} Batch {:>4}/{} - Loss: {:>6.3f}  - Validation loss: {:>6.3f}'\n",
    "                      .format(epoch_i,\n",
    "                              epochs, \n",
    "                              batch_i, \n",
    "                              len(train_source) // batch_size, \n",
    "                              loss, \n",
    "                              validation_loss[0]))\n",
    "\n",
    "    \n",
    "    \n",
    "    # Save Model\n",
    "    saver = tf.train.Saver()\n",
    "    saver.save(sess, checkpoint)\n",
    "    print('Model Trained and Saved')"
   ]
  },
  {
   "cell_type": "markdown",
   "metadata": {
    "deletable": true,
    "editable": true
   },
   "source": [
    "### prediction"
   ]
  },
  {
   "cell_type": "code",
   "execution_count": 19,
   "metadata": {
    "collapsed": true,
    "deletable": true,
    "editable": true
   },
   "outputs": [],
   "source": [
    "def source_to_seq(text):\n",
    "    '''Prepare the text for the model'''\n",
    "    sequence_length = 7\n",
    "    return [source_letter_to_int.get(word, source_letter_to_int['<UNK>']) for word in text]+ [source_letter_to_int['<PAD>']]*(sequence_length-len(text))"
   ]
  },
  {
   "cell_type": "code",
   "execution_count": 21,
   "metadata": {
    "collapsed": false,
    "deletable": true,
    "editable": true
   },
   "outputs": [
    {
     "name": "stdout",
     "output_type": "stream",
     "text": [
      "INFO:tensorflow:Restoring parameters from ./best_model.ckpt\n",
      "Original Text: bcaedzimlcfrsdfwefscweqhlklnbdfuh\n",
      "\n",
      "Source\n",
      "  Word Ids:    [20, 29, 28, 24, 26, 11, 8, 27, 22, 29, 19, 15, 21, 26, 19, 4, 24, 19, 21, 29, 4, 24, 9, 7, 22, 16, 22, 6, 20, 26, 19, 23, 7]\n",
      "  Input Words: b c a e d z i m l c f r s d f w e f s c w e q h l k l n b d f u h\n",
      "\n",
      "Target\n",
      "  Word Ids:       [26, 26, 24, 24, 19, 17, 17, 17, 19, 27, 27, 27, 5, 5, 5]\n",
      "  Response Words: d d e e f g g g f m m m o o o\n"
     ]
    }
   ],
   "source": [
    "input_sentence = 'bcaedzimlcfrsdfwefscweqhlklnbdfuh'\n",
    "text = source_to_seq(input_sentence)\n",
    "\n",
    "checkpoint = \"./best_model.ckpt\"\n",
    "\n",
    "loaded_graph = tf.Graph()\n",
    "with tf.Session(graph=loaded_graph) as sess:\n",
    "    # Load saved model\n",
    "    loader = tf.train.import_meta_graph(checkpoint + '.meta')\n",
    "    loader.restore(sess, checkpoint)\n",
    "\n",
    "    input_data = loaded_graph.get_tensor_by_name('input:0')\n",
    "    logits = loaded_graph.get_tensor_by_name('predictions:0')\n",
    "    source_sequence_length = loaded_graph.get_tensor_by_name('source_sequence_length:0')\n",
    "    target_sequence_length = loaded_graph.get_tensor_by_name('target_sequence_length:0')\n",
    "    \n",
    "    #Multiply by batch_size to match the model's input parameters\n",
    "    answer_logits = sess.run(logits, {input_data: [text]*batch_size, \n",
    "                                      target_sequence_length: [len(text)]*batch_size, \n",
    "                                      source_sequence_length: [len(text)]*batch_size})[0] \n",
    "\n",
    "\n",
    "pad = source_letter_to_int[\"<PAD>\"] \n",
    "\n",
    "print('Original Text:', input_sentence)\n",
    "\n",
    "print('\\nSource')\n",
    "print('  Word Ids:    {}'.format([i for i in text]))\n",
    "print('  Input Words: {}'.format(\" \".join([source_int_to_letter[i] for i in text])))\n",
    "\n",
    "print('\\nTarget')\n",
    "print('  Word Ids:       {}'.format([i for i in answer_logits if i != pad]))\n",
    "print('  Response Words: {}'.format(\" \".join([target_int_to_letter[i] for i in answer_logits if i != pad])))"
   ]
  }
 ],
 "metadata": {
  "anaconda-cloud": {},
  "kernelspec": {
   "display_name": "Python [conda env:tensorflow-1.1]",
   "language": "python",
   "name": "conda-env-tensorflow-1.1-py"
  },
  "language_info": {
   "codemirror_mode": {
    "name": "ipython",
    "version": 3
   },
   "file_extension": ".py",
   "mimetype": "text/x-python",
   "name": "python",
   "nbconvert_exporter": "python",
   "pygments_lexer": "ipython3",
   "version": "3.5.2"
  }
 },
 "nbformat": 4,
 "nbformat_minor": 2
}
